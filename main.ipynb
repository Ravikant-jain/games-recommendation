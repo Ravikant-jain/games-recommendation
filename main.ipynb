{
 "cells": [
  {
   "cell_type": "code",
   "execution_count": 3,
   "metadata": {},
   "outputs": [
    {
     "name": "stdout",
     "output_type": "stream",
     "text": [
      "{'Action Game': ['Grand Theft Auto V', 'Call of Duty: Modern Warfare', \"Assassin's Creed Valhalla\", 'Doom Eternal', 'Metal Gear Solid V: The Phantom Pain', 'Hades', 'Control', 'Nier: Automata', 'Batman: Arkham Knight', 'Devil May Cry 5', 'Resident Evil Village', 'Deathloop', 'Far Cry 6', \"Ghost of Tsushima Director's Cut\", 'Returnal'], 'Adventure Game': ['The Legend of Zelda: Breath of the Wild', \"Uncharted 4: A Thief's End\", 'Red Dead Redemption 2', 'The Last of Us Part II', 'Death Stranding', 'Horizon Zero Dawn', \"Assassin's Creed Odyssey\", 'God of War', 'Tomb Raider', 'Shadow of the Colossus', 'It Takes Two', 'Kena: Bridge of Spirits', 'Life is Strange: True Colors', 'Psychonauts 2', 'The Artful Escape'], 'Role-Playing Game': ['The Witcher 3: Wild Hunt', 'Skyrim', 'Fallout 4', 'Mass Effect 2', 'Final Fantasy VII Remake', 'Persona 5', 'Dragon Age: Inquisition', 'Divinity: Original Sin II', 'Dark Souls III', 'Kingdom Come: Deliverance', 'Tales of Arise', 'Scarlet Nexus', 'Disco Elysium: The Final Cut', 'Monster Hunter Rise', 'Genshin Impact'], 'Strategy Game': ['Civilization VI', 'Starcraft II', 'XCOM 2', 'Total War: Warhammer II', 'Age of Empires II: Definitive Edition', 'Crusader Kings III', 'Stellaris', 'Europa Universalis IV', 'Company of Heroes 2', 'Homeworld Remastered Collection', 'Humankind', 'Age of Empires IV', 'Warhammer 40,000: Battlesector', 'Evil Genius 2: World Domination', 'They Are Billions'], 'Simulation Game': ['The Sims 4', 'Cities: Skylines', 'Planet Coaster', 'Kerbal Space Program', 'Farming Simulator 19', 'Microsoft Flight Simulator', 'Euro Truck Simulator 2', 'RollerCoaster Tycoon 2', 'Railway Empire', 'Two Point Hospital', 'Flight Simulator 2020: Top Gun Expansion', 'Jurassic World Evolution 2', 'House Flipper: Garden Flipper DLC', 'Cooking Simulator: Pizza DLC', 'SnowRunner: Year 2 Pass'], 'Sports Game': ['FIFA 22', 'NBA 2K22', 'Madden NFL 22', 'MLB The Show 21', 'NHL 22', 'WWE 2K22', \"Tony Hawk's Pro Skater 1 + 2\", 'Rocket League', 'Forza Horizon 4', 'Gran Turismo Sport', 'FIFA 23', 'NBA 2K23', 'Madden NFL 23', 'NHL 23', 'MLB The Show 22'], 'Puzzle Game': ['Portal 2', 'Tetris Effect', 'The Witness', 'Baba Is You', 'The Talos Principle', 'Lumines Remastered', 'Fez', 'Monument Valley', 'The Room', 'Puyo Puyo Tetris', 'Chicory: A Colorful Tale', 'Maquette', 'The Pedestrian', 'Unpacking', 'The Forgotten City'], 'Racing Game': ['Forza Horizon 5', 'Need for Speed Heat', 'Dirt 5', 'Project Cars 3', 'Assetto Corsa Competizione', 'F1 2021', 'Wipeout Omega Collection', 'Burnout Paradise Remastered', 'Gran Turismo 7', 'Mario Kart 8 Deluxe', 'F1 2022', 'Test Drive Unlimited Solar Crown', 'Hot Wheels Unleashed', 'Riders Republic', 'Gran Turismo 7'], 'Shooter Game': ['Halo Infinite', 'Overwatch', 'Destiny 2', 'Borderlands 3', 'Doom (2016)', 'Titanfall 2', 'Bioshock Infinite', 'Half-Life: Alyx', 'Far Cry 5', 'Metro Exodus', 'Battlefield 2042', 'Halo Infinite: Campaign', 'Back 4 Blood', 'Rainbow Six Extraction', 'Atomic Heart'], 'Platformer Game': ['Super Mario Odyssey', 'Celeste', 'Hollow Knight', 'Ori and the Will of the Wisps', 'Cuphead', 'Shovel Knight', 'Rayman Legends', 'Donkey Kong Country: Tropical Freeze', 'A Hat in Time', 'Sonic Mania', \"Super Mario 3D World + Bowser's Fury\", 'Little Nightmares II', 'Ori and the Will of the Wisps: The Collection', 'Axiom Verge 2', 'Sonic Colors: Ultimate']}\n"
     ]
    }
   ],
   "source": [
    "import json\n",
    "\n",
    "# Open the JSON file and load its contents into a dictionary\n",
    "with open('games.json', 'r') as f:\n",
    "    games_dict = json.load(f)\n",
    "    \n",
    "\n",
    "# Print the dictionary to verify that it was loaded correctly\n",
    "print(games_dict)"
   ]
  },
  {
   "cell_type": "code",
   "execution_count": 7,
   "metadata": {},
   "outputs": [
    {
     "data": {
      "text/plain": [
       "['The Witcher 3: Wild Hunt',\n",
       " 'Skyrim',\n",
       " 'Fallout 4',\n",
       " 'Mass Effect 2',\n",
       " 'Final Fantasy VII Remake',\n",
       " 'Persona 5',\n",
       " 'Dragon Age: Inquisition',\n",
       " 'Divinity: Original Sin II',\n",
       " 'Dark Souls III',\n",
       " 'Kingdom Come: Deliverance',\n",
       " 'Tales of Arise',\n",
       " 'Scarlet Nexus',\n",
       " 'Disco Elysium: The Final Cut',\n",
       " 'Monster Hunter Rise',\n",
       " 'Genshin Impact']"
      ]
     },
     "execution_count": 7,
     "metadata": {},
     "output_type": "execute_result"
    }
   ],
   "source": [
    "x='Role-Playing Game'\n",
    "games_dict[x]"
   ]
  },
  {
   "cell_type": "code",
   "execution_count": 8,
   "metadata": {},
   "outputs": [],
   "source": [
    "import random\n",
    "import pandas as pd\n",
    "from mlxtend.frequent_patterns import apriori\n",
    "from mlxtend.frequent_patterns import association_rules\n",
    "\n",
    "def create_transaction_data(num_transactions, max_games_per_transaction):\n",
    "    data = []\n",
    "\n",
    "    game_names = [\n",
    "        'Action Game', 'Adventure Game', 'Role-Playing Game', 'Strategy Game',\n",
    "        'Simulation Game', 'Sports Game', 'Puzzle Game', 'Racing Game',\n",
    "        'Shooter Game', 'Platformer Game', 'Indie Game', 'Horror Game'\n",
    "    ]\n",
    "\n",
    "    for transaction_id in range(1, num_transactions + 1):\n",
    "        if max_games_per_transaction <= 2:\n",
    "          max_games_per_transaction=2\n",
    "        num_games = random.randint(2, max_games_per_transaction)\n",
    "        games = random.sample(game_names, num_games)\n",
    "        amount = round(random.uniform(10, 100), 2)\n",
    "        purchase_date = f'2023-09-{random.randint(1, 30)}'\n",
    "        discount = round(random.uniform(0, 0.3), 2)\n",
    "\n",
    "        transaction = {\n",
    "            'TransactionID': transaction_id,\n",
    "            'Games': games,\n",
    "            'Amount': amount,\n",
    "            'PurchaseDate': purchase_date,\n",
    "            'Discount': discount\n",
    "        }\n",
    "\n",
    "        data.append(transaction)\n",
    "\n",
    "    return data"
   ]
  },
  {
   "cell_type": "code",
   "execution_count": 9,
   "metadata": {},
   "outputs": [
    {
     "data": {
      "text/plain": [
       "[{'TransactionID': 1,\n",
       "  'Games': ['Indie Game', 'Sports Game', 'Horror Game', 'Racing Game'],\n",
       "  'Amount': 56.86,\n",
       "  'PurchaseDate': '2023-09-26',\n",
       "  'Discount': 0.02},\n",
       " {'TransactionID': 2,\n",
       "  'Games': ['Role-Playing Game', 'Puzzle Game', 'Strategy Game'],\n",
       "  'Amount': 95.38,\n",
       "  'PurchaseDate': '2023-09-22',\n",
       "  'Discount': 0.0},\n",
       " {'TransactionID': 3,\n",
       "  'Games': ['Shooter Game', 'Action Game', 'Adventure Game', 'Horror Game'],\n",
       "  'Amount': 97.9,\n",
       "  'PurchaseDate': '2023-09-10',\n",
       "  'Discount': 0.26},\n",
       " {'TransactionID': 4,\n",
       "  'Games': ['Adventure Game',\n",
       "   'Puzzle Game',\n",
       "   'Shooter Game',\n",
       "   'Horror Game',\n",
       "   'Simulation Game'],\n",
       "  'Amount': 84.27,\n",
       "  'PurchaseDate': '2023-09-2',\n",
       "  'Discount': 0.15},\n",
       " {'TransactionID': 5,\n",
       "  'Games': ['Shooter Game',\n",
       "   'Simulation Game',\n",
       "   'Platformer Game',\n",
       "   'Puzzle Game'],\n",
       "  'Amount': 36.37,\n",
       "  'PurchaseDate': '2023-09-28',\n",
       "  'Discount': 0.05},\n",
       " {'TransactionID': 6,\n",
       "  'Games': ['Horror Game', 'Shooter Game', 'Action Game'],\n",
       "  'Amount': 78.9,\n",
       "  'PurchaseDate': '2023-09-26',\n",
       "  'Discount': 0.08},\n",
       " {'TransactionID': 7,\n",
       "  'Games': ['Racing Game', 'Platformer Game', 'Sports Game', 'Horror Game'],\n",
       "  'Amount': 23.23,\n",
       "  'PurchaseDate': '2023-09-15',\n",
       "  'Discount': 0.22},\n",
       " {'TransactionID': 8,\n",
       "  'Games': ['Platformer Game', 'Strategy Game', 'Racing Game', 'Sports Game'],\n",
       "  'Amount': 75.41,\n",
       "  'PurchaseDate': '2023-09-16',\n",
       "  'Discount': 0.22},\n",
       " {'TransactionID': 9,\n",
       "  'Games': ['Adventure Game', 'Racing Game', 'Platformer Game', 'Indie Game'],\n",
       "  'Amount': 38.93,\n",
       "  'PurchaseDate': '2023-09-29',\n",
       "  'Discount': 0.27},\n",
       " {'TransactionID': 10,\n",
       "  'Games': ['Sports Game', 'Adventure Game', 'Puzzle Game'],\n",
       "  'Amount': 66.8,\n",
       "  'PurchaseDate': '2023-09-11',\n",
       "  'Discount': 0.25}]"
      ]
     },
     "execution_count": 9,
     "metadata": {},
     "output_type": "execute_result"
    }
   ],
   "source": [
    "cd=create_transaction_data(10,5)\n",
    "cd"
   ]
  },
  {
   "cell_type": "code",
   "execution_count": 13,
   "metadata": {},
   "outputs": [
    {
     "name": "stdout",
     "output_type": "stream",
     "text": [
      "An error occurred: 'numpy.dtype[int64]' object has no attribute 'apply'\n"
     ]
    }
   ],
   "source": [
    "try:\n",
    "\n",
    "    num_transactions = int(input(\"Enter the number of transactions: \"))\n",
    "    max_games_per_transaction = int(input(\"Enter the maximum number of games per transaction: \"))\n",
    "    user_game = input(\"Enter a video game: \")\n",
    "    num_recommendations = int(input(\"Enter the number of game recommendations: \"))\n",
    "\n",
    "\n",
    "    transaction_data = create_transaction_data(num_transactions, max_games_per_transaction)\n",
    "\n",
    "\n",
    "    df = pd.DataFrame(transaction_data)\n",
    "\n",
    "    oht = pd.get_dummies(df['Games'].apply(pd.Series).stack()).sum(level=0)\n",
    "\n",
    "\n",
    "    frequent_itemsets = apriori(oht, min_support=0.05, use_colnames=True)\n",
    "\n",
    "    rules = association_rules(frequent_itemsets, metric='lift', min_threshold=1.0)\n",
    "\n",
    "\n",
    "    user_rules = rules[rules['antecedents'] == {user_game}]\n",
    "    user_rules = user_rules.sort_values(by='lift', ascending=False).head(num_recommendations)\n",
    "\n",
    "\n",
    "    recommended_games = list(user_rules['consequents'].values)\n",
    "\n",
    "    print(f\"Recommended games for {user_game}: {recommended_games}\")\n",
    "except Exception as e:\n",
    "    print(f\"An error occurred: {str(e)}\")"
   ]
  },
  {
   "cell_type": "code",
   "execution_count": null,
   "metadata": {},
   "outputs": [],
   "source": []
  }
 ],
 "metadata": {
  "kernelspec": {
   "display_name": "Python 3",
   "language": "python",
   "name": "python3"
  },
  "language_info": {
   "codemirror_mode": {
    "name": "ipython",
    "version": 3
   },
   "file_extension": ".py",
   "mimetype": "text/x-python",
   "name": "python",
   "nbconvert_exporter": "python",
   "pygments_lexer": "ipython3",
   "version": "3.11.4"
  }
 },
 "nbformat": 4,
 "nbformat_minor": 2
}
