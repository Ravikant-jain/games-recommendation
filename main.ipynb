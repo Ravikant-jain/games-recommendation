{
 "cells": [
  {
   "cell_type": "code",
   "execution_count": 3,
   "metadata": {},
   "outputs": [
    {
     "name": "stdout",
     "output_type": "stream",
     "text": [
      "{'Action Game': ['Grand Theft Auto V', 'Call of Duty: Modern Warfare', \"Assassin's Creed Valhalla\", 'Doom Eternal', 'Metal Gear Solid V: The Phantom Pain', 'Hades', 'Control', 'Nier: Automata', 'Batman: Arkham Knight', 'Devil May Cry 5', 'Resident Evil Village', 'Deathloop', 'Far Cry 6', \"Ghost of Tsushima Director's Cut\", 'Returnal'], 'Adventure Game': ['The Legend of Zelda: Breath of the Wild', \"Uncharted 4: A Thief's End\", 'Red Dead Redemption 2', 'The Last of Us Part II', 'Death Stranding', 'Horizon Zero Dawn', \"Assassin's Creed Odyssey\", 'God of War', 'Tomb Raider', 'Shadow of the Colossus', 'It Takes Two', 'Kena: Bridge of Spirits', 'Life is Strange: True Colors', 'Psychonauts 2', 'The Artful Escape'], 'Role-Playing Game': ['The Witcher 3: Wild Hunt', 'Skyrim', 'Fallout 4', 'Mass Effect 2', 'Final Fantasy VII Remake', 'Persona 5', 'Dragon Age: Inquisition', 'Divinity: Original Sin II', 'Dark Souls III', 'Kingdom Come: Deliverance', 'Tales of Arise', 'Scarlet Nexus', 'Disco Elysium: The Final Cut', 'Monster Hunter Rise', 'Genshin Impact'], 'Strategy Game': ['Civilization VI', 'Starcraft II', 'XCOM 2', 'Total War: Warhammer II', 'Age of Empires II: Definitive Edition', 'Crusader Kings III', 'Stellaris', 'Europa Universalis IV', 'Company of Heroes 2', 'Homeworld Remastered Collection', 'Humankind', 'Age of Empires IV', 'Warhammer 40,000: Battlesector', 'Evil Genius 2: World Domination', 'They Are Billions'], 'Simulation Game': ['The Sims 4', 'Cities: Skylines', 'Planet Coaster', 'Kerbal Space Program', 'Farming Simulator 19', 'Microsoft Flight Simulator', 'Euro Truck Simulator 2', 'RollerCoaster Tycoon 2', 'Railway Empire', 'Two Point Hospital', 'Flight Simulator 2020: Top Gun Expansion', 'Jurassic World Evolution 2', 'House Flipper: Garden Flipper DLC', 'Cooking Simulator: Pizza DLC', 'SnowRunner: Year 2 Pass'], 'Sports Game': ['FIFA 22', 'NBA 2K22', 'Madden NFL 22', 'MLB The Show 21', 'NHL 22', 'WWE 2K22', \"Tony Hawk's Pro Skater 1 + 2\", 'Rocket League', 'Forza Horizon 4', 'Gran Turismo Sport', 'FIFA 23', 'NBA 2K23', 'Madden NFL 23', 'NHL 23', 'MLB The Show 22'], 'Puzzle Game': ['Portal 2', 'Tetris Effect', 'The Witness', 'Baba Is You', 'The Talos Principle', 'Lumines Remastered', 'Fez', 'Monument Valley', 'The Room', 'Puyo Puyo Tetris', 'Chicory: A Colorful Tale', 'Maquette', 'The Pedestrian', 'Unpacking', 'The Forgotten City'], 'Racing Game': ['Forza Horizon 5', 'Need for Speed Heat', 'Dirt 5', 'Project Cars 3', 'Assetto Corsa Competizione', 'F1 2021', 'Wipeout Omega Collection', 'Burnout Paradise Remastered', 'Gran Turismo 7', 'Mario Kart 8 Deluxe', 'F1 2022', 'Test Drive Unlimited Solar Crown', 'Hot Wheels Unleashed', 'Riders Republic', 'Gran Turismo 7'], 'Shooter Game': ['Halo Infinite', 'Overwatch', 'Destiny 2', 'Borderlands 3', 'Doom (2016)', 'Titanfall 2', 'Bioshock Infinite', 'Half-Life: Alyx', 'Far Cry 5', 'Metro Exodus', 'Battlefield 2042', 'Halo Infinite: Campaign', 'Back 4 Blood', 'Rainbow Six Extraction', 'Atomic Heart'], 'Platformer Game': ['Super Mario Odyssey', 'Celeste', 'Hollow Knight', 'Ori and the Will of the Wisps', 'Cuphead', 'Shovel Knight', 'Rayman Legends', 'Donkey Kong Country: Tropical Freeze', 'A Hat in Time', 'Sonic Mania', \"Super Mario 3D World + Bowser's Fury\", 'Little Nightmares II', 'Ori and the Will of the Wisps: The Collection', 'Axiom Verge 2', 'Sonic Colors: Ultimate']}\n"
     ]
    }
   ],
   "source": [
    "import json\n",
    "\n",
    "# Open the JSON file and load its contents into a dictionary\n",
    "with open('games.json', 'r') as f:\n",
    "    games_dict = json.load(f)\n",
    "    \n",
    "\n",
    "# Print the dictionary to verify that it was loaded correctly\n",
    "print(games_dict)"
   ]
  },
  {
   "cell_type": "code",
   "execution_count": 7,
   "metadata": {},
   "outputs": [
    {
     "data": {
      "text/plain": [
       "['The Witcher 3: Wild Hunt',\n",
       " 'Skyrim',\n",
       " 'Fallout 4',\n",
       " 'Mass Effect 2',\n",
       " 'Final Fantasy VII Remake',\n",
       " 'Persona 5',\n",
       " 'Dragon Age: Inquisition',\n",
       " 'Divinity: Original Sin II',\n",
       " 'Dark Souls III',\n",
       " 'Kingdom Come: Deliverance',\n",
       " 'Tales of Arise',\n",
       " 'Scarlet Nexus',\n",
       " 'Disco Elysium: The Final Cut',\n",
       " 'Monster Hunter Rise',\n",
       " 'Genshin Impact']"
      ]
     },
     "execution_count": 7,
     "metadata": {},
     "output_type": "execute_result"
    }
   ],
   "source": [
    "x='Role-Playing Game'\n",
    "games_dict[x]"
   ]
  },
  {
   "cell_type": "code",
   "execution_count": null,
   "metadata": {},
   "outputs": [],
   "source": []
  }
 ],
 "metadata": {
  "kernelspec": {
   "display_name": "Python 3",
   "language": "python",
   "name": "python3"
  },
  "language_info": {
   "codemirror_mode": {
    "name": "ipython",
    "version": 3
   },
   "file_extension": ".py",
   "mimetype": "text/x-python",
   "name": "python",
   "nbconvert_exporter": "python",
   "pygments_lexer": "ipython3",
   "version": "3.11.4"
  }
 },
 "nbformat": 4,
 "nbformat_minor": 2
}
