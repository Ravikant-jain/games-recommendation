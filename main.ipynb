{
 "cells": [
  {
   "cell_type": "code",
   "execution_count": 1,
   "metadata": {},
   "outputs": [],
   "source": [
    "import json\n",
    "import random\n",
    "import pandas as pd\n",
    "from mlxtend.frequent_patterns import apriori\n",
    "from mlxtend.frequent_patterns import association_rules"
   ]
  },
  {
   "cell_type": "code",
   "execution_count": 2,
   "metadata": {},
   "outputs": [],
   "source": [
    "import warnings\n",
    "warnings.filterwarnings(\"ignore\", category=DeprecationWarning)"
   ]
  },
  {
   "cell_type": "code",
   "execution_count": 3,
   "metadata": {},
   "outputs": [
    {
     "name": "stdout",
     "output_type": "stream",
     "text": [
      "{'Action Game': ['Grand Theft Auto V', 'Call of Duty: Modern Warfare', \"Assassin's Creed Valhalla\", 'Doom Eternal', 'Metal Gear Solid V: The Phantom Pain', 'Hades', 'Control', 'Nier: Automata', 'Batman: Arkham Knight', 'Devil May Cry 5', 'Resident Evil Village', 'Deathloop', 'Far Cry 6', \"Ghost of Tsushima Director's Cut\", 'Returnal'], 'Adventure Game': ['The Legend of Zelda: Breath of the Wild', \"Uncharted 4: A Thief's End\", 'Red Dead Redemption 2', 'The Last of Us Part II', 'Death Stranding', 'Horizon Zero Dawn', \"Assassin's Creed Odyssey\", 'God of War', 'Tomb Raider', 'Shadow of the Colossus', 'It Takes Two', 'Kena: Bridge of Spirits', 'Life is Strange: True Colors', 'Psychonauts 2', 'The Artful Escape'], 'Role-Playing Game': ['The Witcher 3: Wild Hunt', 'Skyrim', 'Fallout 4', 'Mass Effect 2', 'Final Fantasy VII Remake', 'Persona 5', 'Dragon Age: Inquisition', 'Divinity: Original Sin II', 'Dark Souls III', 'Kingdom Come: Deliverance', 'Tales of Arise', 'Scarlet Nexus', 'Disco Elysium: The Final Cut', 'Monster Hunter Rise', 'Genshin Impact'], 'Strategy Game': ['Civilization VI', 'Starcraft II', 'XCOM 2', 'Total War: Warhammer II', 'Age of Empires II: Definitive Edition', 'Crusader Kings III', 'Stellaris', 'Europa Universalis IV', 'Company of Heroes 2', 'Homeworld Remastered Collection', 'Humankind', 'Age of Empires IV', 'Warhammer 40,000: Battlesector', 'Evil Genius 2: World Domination', 'They Are Billions'], 'Simulation Game': ['The Sims 4', 'Cities: Skylines', 'Planet Coaster', 'Kerbal Space Program', 'Farming Simulator 19', 'Microsoft Flight Simulator', 'Euro Truck Simulator 2', 'RollerCoaster Tycoon 2', 'Railway Empire', 'Two Point Hospital', 'Flight Simulator 2020: Top Gun Expansion', 'Jurassic World Evolution 2', 'House Flipper: Garden Flipper DLC', 'Cooking Simulator: Pizza DLC', 'SnowRunner: Year 2 Pass'], 'Sports Game': ['FIFA 22', 'NBA 2K22', 'Madden NFL 22', 'MLB The Show 21', 'NHL 22', 'WWE 2K22', \"Tony Hawk's Pro Skater 1 + 2\", 'Rocket League', 'Forza Horizon 4', 'Gran Turismo Sport', 'FIFA 23', 'NBA 2K23', 'Madden NFL 23', 'NHL 23', 'MLB The Show 22'], 'Puzzle Game': ['Portal 2', 'Tetris Effect', 'The Witness', 'Baba Is You', 'The Talos Principle', 'Lumines Remastered', 'Fez', 'Monument Valley', 'The Room', 'Puyo Puyo Tetris', 'Chicory: A Colorful Tale', 'Maquette', 'The Pedestrian', 'Unpacking', 'The Forgotten City'], 'Racing Game': ['Forza Horizon 5', 'Need for Speed Heat', 'Dirt 5', 'Project Cars 3', 'Assetto Corsa Competizione', 'F1 2021', 'Wipeout Omega Collection', 'Burnout Paradise Remastered', 'Gran Turismo 7', 'Mario Kart 8 Deluxe', 'F1 2022', 'Test Drive Unlimited Solar Crown', 'Hot Wheels Unleashed', 'Riders Republic', 'Gran Turismo 7'], 'Shooter Game': ['Halo Infinite', 'Overwatch', 'Destiny 2', 'Borderlands 3', 'Doom (2016)', 'Titanfall 2', 'Bioshock Infinite', 'Half-Life: Alyx', 'Far Cry 5', 'Metro Exodus', 'Battlefield 2042', 'Halo Infinite: Campaign', 'Back 4 Blood', 'Rainbow Six Extraction', 'Atomic Heart'], 'Platformer Game': ['Super Mario Odyssey', 'Celeste', 'Hollow Knight', 'Ori and the Will of the Wisps', 'Cuphead', 'Shovel Knight', 'Rayman Legends', 'Donkey Kong Country: Tropical Freeze', 'A Hat in Time', 'Sonic Mania', \"Super Mario 3D World + Bowser's Fury\", 'Little Nightmares II', 'Ori and the Will of the Wisps: The Collection', 'Axiom Verge 2', 'Sonic Colors: Ultimate']}\n"
     ]
    }
   ],
   "source": [
    "\n",
    "\n",
    "# Open the JSON file and load its contents into a dictionary\n",
    "with open('games.json', 'r') as f:\n",
    "    ngames = json.load(f)\n",
    "    \n",
    "\n",
    "# Print the dictionary to verify that it was loaded correctly\n",
    "print(ngames)"
   ]
  },
  {
   "cell_type": "code",
   "execution_count": 4,
   "metadata": {},
   "outputs": [],
   "source": [
    "\n",
    "def create_transaction_data(num_transactions, max_games_per_transaction,mode):\n",
    "    data = []\n",
    "\n",
    "    game_names = [\n",
    "        'Action Game', 'Adventure Game', 'Role-Playing Game', 'Strategy Game',\n",
    "        'Simulation Game', 'Sports Game', 'Puzzle Game', 'Racing Game',\n",
    "        'Shooter Game', 'Platformer Game', 'Indie Game', 'Horror Game'\n",
    "    ]\n",
    "\n",
    "    for transaction_id in range(1, num_transactions + 1):\n",
    "        if max_games_per_transaction <= 2:\n",
    "            max_games_per_transaction = 2\n",
    "        num_games = random.randint(2, max_games_per_transaction)\n",
    "        games = random.sample(game_names, num_games)\n",
    "        amount = round(random.uniform(10, 100), 2)\n",
    "        purchase_date = f'2023-09-{random.randint(1, 30)}'\n",
    "        discount = round(random.uniform(0, 0.3), 2)\n",
    "        mpay=random.choice(['cash','card','robbery','UPI','Membership'])\n",
    "\n",
    "\n",
    "        transaction = {\n",
    "            'TransactionID': transaction_id,\n",
    "            'Games': games,\n",
    "            'Amount': amount,\n",
    "            'PurchaseDate': purchase_date,\n",
    "            'Discount': discount,\n",
    "            'Payment_mode': mpay\n",
    "            \n",
    "        }\n",
    "\n",
    "        data.append(transaction)\n",
    "\n",
    "    \n",
    "    if mode==1:\n",
    "        return data\n",
    "    else:\n",
    "        # Convert the data list to JSON format\n",
    "        json_data = json.dumps(data, indent=4)\n",
    "\n",
    "        # Save the JSON data to a file\n",
    "        with open('transaction_data.json', 'w') as json_file:\n",
    "            json_file.write(json_data)\n",
    "        return json_data\n"
   ]
  },
  {
   "cell_type": "code",
   "execution_count": 5,
   "metadata": {},
   "outputs": [],
   "source": [
    "num_transactions = 1000 #int(input(\"Enter the number of transactions: \"))\n",
    "max_games_per_transaction = 12#int(input(\"Enter the maximum number of games per transaction: \"))\n",
    "transaction_data = create_transaction_data(num_transactions, max_games_per_transaction,1)"
   ]
  },
  {
   "cell_type": "code",
   "execution_count": 6,
   "metadata": {},
   "outputs": [],
   "source": [
    "def recom_engine(transaction_data,user_game):\n",
    "    num_recommendations = 2\n",
    "    try:\n",
    "        df = pd.DataFrame(transaction_data)\n",
    "\n",
    "        oht = pd.get_dummies(df['Games'].apply(pd.Series).stack()).groupby(level=0).sum()\n",
    "        random_number = random.uniform(0.20, 0.30)\n",
    "        msc=round(random_number,2)\n",
    "\n",
    "\n",
    "\n",
    "        frequent_itemsets = apriori(oht, min_support=msc, use_colnames=True)\n",
    "\n",
    "        rules = association_rules(frequent_itemsets, metric='lift', min_threshold=1.0)\n",
    "\n",
    "\n",
    "        user_rules = rules[rules['antecedents'] == {user_game}]\n",
    "        user_rules = user_rules.sort_values(by='lift', ascending=False).head(num_recommendations)\n",
    "\n",
    "\n",
    "        # recommended_games = list(user_rules['consequents'].values)\n",
    "\n",
    "        \n",
    "        recommended_games = [list(game)[0] for game in user_rules['consequents']]\n",
    "        # print(f\"Recommended games for {user_game}: {recommended_games[0]}\")\n",
    "        return recommended_games\n",
    "        \n",
    "        \n",
    "    except Exception as e:\n",
    "        print(f\"An error occurred: {str(e)}\")\n",
    "\n"
   ]
  },
  {
   "cell_type": "code",
   "execution_count": 21,
   "metadata": {},
   "outputs": [
    {
     "name": "stdout",
     "output_type": "stream",
     "text": [
      "['Puzzle Game', 'Simulation Game']\n",
      "Here are your 18 recommendations: \n",
      "\n",
      "\t 1 -->  Portal 2\n",
      "\t 2 -->  Tetris Effect\n",
      "\t 3 -->  The Witness\n",
      "\t 4 -->  Baba Is You\n",
      "\t 5 -->  The Talos Principle\n",
      "\t 6 -->  Lumines Remastered\n",
      "\t 7 -->  Fez\n",
      "\t 8 -->  Monument Valley\n",
      "\t 9 -->  The Room\n",
      "\t 10 -->  Puyo Puyo Tetris\n",
      "\t 11 -->  The Sims 4\n",
      "\t 12 -->  Cities: Skylines\n",
      "\t 13 -->  Planet Coaster\n",
      "\t 14 -->  Kerbal Space Program\n",
      "\t 15 -->  Farming Simulator 19\n",
      "\t 16 -->  Microsoft Flight Simulator\n",
      "\t 17 -->  Euro Truck Simulator 2\n",
      "\t 18 -->  RollerCoaster Tycoon 2\n"
     ]
    }
   ],
   "source": [
    "import numpy as np\n",
    "import math\n",
    "\n",
    "def recom_sys():\n",
    "    outlis=[]\n",
    "    user_game = '1' #input(\"Enter a video game: \")\n",
    "    if user_game=='1':\n",
    "        user_game='Action Game'\n",
    "    recom_need = int(input(\"Enter the number of game recommendations: \"))\n",
    "    n1=recom_need*0.6\n",
    "    # n2=recom_need*0.4\n",
    "    # n2=math.ceil(n2) these were planned so that ratio of both generes would be 60:40 , but didnt added this feature till this comment is here :)\n",
    "    n1=math.floor(n1)\n",
    "    # print(n1)\n",
    "    \n",
    "    recoms=recom_engine(transaction_data,user_game)\n",
    "    print(recoms)\n",
    "    # print(recom_list)\n",
    "\n",
    "    while len(outlis)<recom_need:\n",
    "        for genere in recoms:\n",
    "            if len(ngames[genere])>len(ngames[genere][0:n1]):\n",
    "                outlis+=ngames[genere][0:n1]\n",
    "            else:\n",
    "                outlis.append('trash af')\n",
    "            recoms.remove(genere)\n",
    "    # recom_list=\n",
    "    return ((outlis[:recom_need]))\n",
    "\n",
    "rl=recom_sys()\n",
    "print('Here are your',len(rl),'recommendations:','\\n')\n",
    "for srn,rec in enumerate(rl):\n",
    "    print('\\t',srn+1,'--> ',rec)"
   ]
  },
  {
   "cell_type": "code",
   "execution_count": null,
   "metadata": {},
   "outputs": [],
   "source": []
  },
  {
   "cell_type": "code",
   "execution_count": null,
   "metadata": {},
   "outputs": [],
   "source": []
  }
 ],
 "metadata": {
  "kernelspec": {
   "display_name": "Python 3",
   "language": "python",
   "name": "python3"
  },
  "language_info": {
   "codemirror_mode": {
    "name": "ipython",
    "version": 3
   },
   "file_extension": ".py",
   "mimetype": "text/x-python",
   "name": "python",
   "nbconvert_exporter": "python",
   "pygments_lexer": "ipython3",
   "version": "3.11.4"
  }
 },
 "nbformat": 4,
 "nbformat_minor": 2
}
